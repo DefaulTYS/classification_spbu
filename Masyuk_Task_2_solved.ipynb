{
 "cells": [
  {
   "cell_type": "code",
   "execution_count": 2,
   "metadata": {},
   "outputs": [],
   "source": [
    "import numpy as np\n",
    "import scipy as sp\n",
    "import matplotlib.pyplot as plt\n",
    "import seaborn as sns\n",
    "\n",
    "%matplotlib inline"
   ]
  },
  {
   "cell_type": "markdown",
   "metadata": {},
   "source": [
    "# 2. Работа с массивами NumPy"
   ]
  },
  {
   "cell_type": "markdown",
   "metadata": {},
   "source": [
    "**N. Все упражнения ниже нужно делать без использования циклов Python**\n",
    "\n",
    "**2.1.** Cоздать вектор\n",
    "\n",
    "$$(2, \\frac{2^2}{2}, \\ldots, \\frac{2^{20}}{20})$$\n",
    "\n",
    "Можно использовать функции [np.arange()](http://docs.scipy.org/doc/numpy/reference/generated/numpy.arange.html), [np.ones()](http://docs.scipy.org/doc/numpy/reference/generated/numpy.ones.html)"
   ]
  },
  {
   "cell_type": "code",
   "execution_count": 5,
   "outputs": [
    {
     "data": {
      "text/plain": "array([2.00000000e+00, 2.00000000e+00, 2.66666667e+00, 4.00000000e+00,\n       6.40000000e+00, 1.06666667e+01, 1.82857143e+01, 3.20000000e+01,\n       5.68888889e+01, 1.02400000e+02, 1.86181818e+02, 3.41333333e+02,\n       6.30153846e+02, 1.17028571e+03, 2.18453333e+03, 4.09600000e+03,\n       7.71011765e+03, 1.45635556e+04, 2.75941053e+04, 5.24288000e+04])"
     },
     "execution_count": 5,
     "metadata": {},
     "output_type": "execute_result"
    }
   ],
   "source": [
    "numerator = 2 ** np.arange(1, 21)\n",
    "denominator = np.arange(1, 21)\n",
    "numerator / denominator"
   ],
   "metadata": {
    "collapsed": false
   }
  },
  {
   "cell_type": "markdown",
   "metadata": {},
   "source": [
    "**2.2.** Посчитать:\n",
    "\n",
    "$$\\sum\\limits_{i=0}^{5}{0.1^{3i}0.2^{4i}}$$\n"
   ]
  },
  {
   "cell_type": "code",
   "execution_count": 10,
   "outputs": [
    {
     "data": {
      "text/plain": "1.00000160000256"
     },
     "execution_count": 10,
     "metadata": {},
     "output_type": "execute_result"
    }
   ],
   "source": [
    "sigma = np.arange(6) # i от нуля до 5\n",
    "np.sum(0.1 ** (sigma * 3)  *  0.2 ** (sigma * 4))"
   ],
   "metadata": {
    "collapsed": false
   }
  },
  {
   "cell_type": "markdown",
   "metadata": {},
   "source": [
    "**2.3.** Создать нулевую матрицe $8 \\times 8$, и заполнить её единицами в шахматном порядке."
   ]
  },
  {
   "cell_type": "code",
   "execution_count": 15,
   "metadata": {},
   "outputs": [
    {
     "data": {
      "text/plain": "array([[0., 1., 0., 1., 0., 1., 0., 1.],\n       [1., 0., 1., 0., 1., 0., 1., 0.],\n       [0., 1., 0., 1., 0., 1., 0., 1.],\n       [1., 0., 1., 0., 1., 0., 1., 0.],\n       [0., 1., 0., 1., 0., 1., 0., 1.],\n       [1., 0., 1., 0., 1., 0., 1., 0.],\n       [0., 1., 0., 1., 0., 1., 0., 1.],\n       [1., 0., 1., 0., 1., 0., 1., 0.]])"
     },
     "execution_count": 15,
     "metadata": {},
     "output_type": "execute_result"
    }
   ],
   "source": [
    "## your code\n",
    "zero = np.zeros([8,8])\n",
    "zero[0::2, 1::2] = 1 # заполнение первой строки и далее через одну\n",
    "zero[1::2, 0::2] = 1 # заполнение второй строки и далее\n",
    "zero"
   ]
  },
  {
   "cell_type": "markdown",
   "metadata": {},
   "source": [
    "**2.4.** Есть 5 точек в декартовой системе координат (в виде матрицы $X$ размерностью $5 \\times 2$), сконвертируйте эти точки в полярную систему координат."
   ]
  },
  {
   "cell_type": "code",
   "execution_count": 70,
   "metadata": {},
   "outputs": [
    {
     "name": "stdout",
     "output_type": "stream",
     "text": [
      "[0.33871188 0.46402592 1.24778674 1.05787496 0.69802944] -- Полярный радиус\n",
      "[1.10322617 1.43670313 0.83741172 0.81314607 1.17486856] -- Полярный угол\n"
     ]
    }
   ],
   "source": [
    "np.random.seed(777)\n",
    "X = np.random.random((5, 2))\n",
    "\n",
    "## your code\n",
    "## http://xlench.bget.ru/doku.php/mat/elem/decart\n",
    "\n",
    "x = X[:, 0]\n",
    "y = X[:, 1]\n",
    "\n",
    "teta = np.arctan(y / x)\n",
    "ro = x / np.cos(teta)\n",
    "\n",
    "print(str(ro) + ' -- Полярный радиус')\n",
    "print(str(teta) + ' -- Полярный угол')"
   ]
  },
  {
   "cell_type": "markdown",
   "metadata": {},
   "source": [
    "**2.5.** Найдите индексы максимального элемента в случайной матрице $10 \\times 10$.\n",
    "\n",
    "Cм. [np.argmax()](http://docs.scipy.org/doc/numpy/reference/generated/numpy.argmax.html)."
   ]
  },
  {
   "cell_type": "code",
   "execution_count": 115,
   "metadata": {},
   "outputs": [
    {
     "name": "stdout",
     "output_type": "stream",
     "text": [
      "(9, 2)\n",
      "9\n",
      "2\n"
     ]
    }
   ],
   "source": [
    "# https://www.geeksforgeeks.org/numpy-argmax-python/\n",
    "# https://stackoverflow.com/questions/9482550/argmax-of-numpy-array-returning-non-flat-indices\n",
    "np.random.seed(777)\n",
    "X = np.random.random((10, 10))\n",
    "\n",
    "## your code\n",
    "print(np.unravel_index(np.argmax(X), X.shape))\n",
    "\n",
    "# Или\n",
    "print(np.argmax(X) // X.shape[1]) # по x\n",
    "print(np.argmax(X) % X.shape[1]) # по y"
   ]
  },
  {
   "cell_type": "markdown",
   "metadata": {},
   "source": [
    "**2.6.** Есть 10 точек ($X$) и ещё одна ($y$). Найти в $X$ ближайшую к $y$ точку."
   ]
  },
  {
   "cell_type": "code",
   "execution_count": 48,
   "metadata": {},
   "outputs": [
    {
     "data": {
      "text/plain": "4"
     },
     "execution_count": 48,
     "metadata": {},
     "output_type": "execute_result"
    }
   ],
   "source": [
    "np.random.seed(7772)\n",
    "X = np.random.random((10, 2))\n",
    "y = np.random.random((1, 2))\n",
    "\n",
    "# dist = sqrt((x_a - x_b)ˆ2 + (y_a - y_b)ˆ2)\n",
    "#                  ^               ^\n",
    "#                x_diff          y_diff\n",
    "\n",
    "x_diff = X[:, 0] - y[:, 0]\n",
    "y_diff = X[:, 1] - y[:, 1]\n",
    "dist = np.sqrt(x_diff ** 2 + y_diff ** 2)\n",
    "\n",
    "np.argmin(dist)"
   ]
  },
  {
   "cell_type": "markdown",
   "metadata": {},
   "source": [
    "**2.7.** Дана функция:\n",
    "\n",
    "$$\n",
    " \\begin{cases}\n",
    "    x^2 + 2x + 6, & x < 0  \\\\\n",
    "    x + 6, & 0 \\le x \\le 2 \\\\\n",
    "    x^2 + 4x - 4, & x \\ge 2\n",
    " \\end{cases}\n",
    "$$\n",
    "\n",
    "Постройте массив из её значений на  $-3 \\le x \\le 3$."
   ]
  },
  {
   "cell_type": "code",
   "execution_count": 50,
   "metadata": {},
   "outputs": [
    {
     "data": {
      "text/plain": "array([ 9.    ,  8.9601,  8.9204,  8.8809,  8.8416,  8.8025,  8.7636,\n        8.7249,  8.6864,  8.6481,  8.61  ,  8.5721,  8.5344,  8.4969,\n        8.4596,  8.4225,  8.3856,  8.3489,  8.3124,  8.2761,  8.24  ,\n        8.2041,  8.1684,  8.1329,  8.0976,  8.0625,  8.0276,  7.9929,\n        7.9584,  7.9241,  7.89  ,  7.8561,  7.8224,  7.7889,  7.7556,\n        7.7225,  7.6896,  7.6569,  7.6244,  7.5921,  7.56  ,  7.5281,\n        7.4964,  7.4649,  7.4336,  7.4025,  7.3716,  7.3409,  7.3104,\n        7.2801,  7.25  ,  7.2201,  7.1904,  7.1609,  7.1316,  7.1025,\n        7.0736,  7.0449,  7.0164,  6.9881,  6.96  ,  6.9321,  6.9044,\n        6.8769,  6.8496,  6.8225,  6.7956,  6.7689,  6.7424,  6.7161,\n        6.69  ,  6.6641,  6.6384,  6.6129,  6.5876,  6.5625,  6.5376,\n        6.5129,  6.4884,  6.4641,  6.44  ,  6.4161,  6.3924,  6.3689,\n        6.3456,  6.3225,  6.2996,  6.2769,  6.2544,  6.2321,  6.21  ,\n        6.1881,  6.1664,  6.1449,  6.1236,  6.1025,  6.0816,  6.0609,\n        6.0404,  6.0201,  6.    ,  5.9801,  5.9604,  5.9409,  5.9216,\n        5.9025,  5.8836,  5.8649,  5.8464,  5.8281,  5.81  ,  5.7921,\n        5.7744,  5.7569,  5.7396,  5.7225,  5.7056,  5.6889,  5.6724,\n        5.6561,  5.64  ,  5.6241,  5.6084,  5.5929,  5.5776,  5.5625,\n        5.5476,  5.5329,  5.5184,  5.5041,  5.49  ,  5.4761,  5.4624,\n        5.4489,  5.4356,  5.4225,  5.4096,  5.3969,  5.3844,  5.3721,\n        5.36  ,  5.3481,  5.3364,  5.3249,  5.3136,  5.3025,  5.2916,\n        5.2809,  5.2704,  5.2601,  5.25  ,  5.2401,  5.2304,  5.2209,\n        5.2116,  5.2025,  5.1936,  5.1849,  5.1764,  5.1681,  5.16  ,\n        5.1521,  5.1444,  5.1369,  5.1296,  5.1225,  5.1156,  5.1089,\n        5.1024,  5.0961,  5.09  ,  5.0841,  5.0784,  5.0729,  5.0676,\n        5.0625,  5.0576,  5.0529,  5.0484,  5.0441,  5.04  ,  5.0361,\n        5.0324,  5.0289,  5.0256,  5.0225,  5.0196,  5.0169,  5.0144,\n        5.0121,  5.01  ,  5.0081,  5.0064,  5.0049,  5.0036,  5.0025,\n        5.0016,  5.0009,  5.0004,  5.0001,  5.    ,  5.0001,  5.0004,\n        5.0009,  5.0016,  5.0025,  5.0036,  5.0049,  5.0064,  5.0081,\n        5.01  ,  5.0121,  5.0144,  5.0169,  5.0196,  5.0225,  5.0256,\n        5.0289,  5.0324,  5.0361,  5.04  ,  5.0441,  5.0484,  5.0529,\n        5.0576,  5.0625,  5.0676,  5.0729,  5.0784,  5.0841,  5.09  ,\n        5.0961,  5.1024,  5.1089,  5.1156,  5.1225,  5.1296,  5.1369,\n        5.1444,  5.1521,  5.16  ,  5.1681,  5.1764,  5.1849,  5.1936,\n        5.2025,  5.2116,  5.2209,  5.2304,  5.2401,  5.25  ,  5.2601,\n        5.2704,  5.2809,  5.2916,  5.3025,  5.3136,  5.3249,  5.3364,\n        5.3481,  5.36  ,  5.3721,  5.3844,  5.3969,  5.4096,  5.4225,\n        5.4356,  5.4489,  5.4624,  5.4761,  5.49  ,  5.5041,  5.5184,\n        5.5329,  5.5476,  5.5625,  5.5776,  5.5929,  5.6084,  5.6241,\n        5.64  ,  5.6561,  5.6724,  5.6889,  5.7056,  5.7225,  5.7396,\n        5.7569,  5.7744,  5.7921,  5.81  ,  5.8281,  5.8464,  5.8649,\n        5.8836,  5.9025,  5.9216,  5.9409,  5.9604,  5.9801,  6.    ,\n        6.01  ,  6.02  ,  6.03  ,  6.04  ,  6.05  ,  6.06  ,  6.07  ,\n        6.08  ,  6.09  ,  6.1   ,  6.11  ,  6.12  ,  6.13  ,  6.14  ,\n        6.15  ,  6.16  ,  6.17  ,  6.18  ,  6.19  ,  6.2   ,  6.21  ,\n        6.22  ,  6.23  ,  6.24  ,  6.25  ,  6.26  ,  6.27  ,  6.28  ,\n        6.29  ,  6.3   ,  6.31  ,  6.32  ,  6.33  ,  6.34  ,  6.35  ,\n        6.36  ,  6.37  ,  6.38  ,  6.39  ,  6.4   ,  6.41  ,  6.42  ,\n        6.43  ,  6.44  ,  6.45  ,  6.46  ,  6.47  ,  6.48  ,  6.49  ,\n        6.5   ,  6.51  ,  6.52  ,  6.53  ,  6.54  ,  6.55  ,  6.56  ,\n        6.57  ,  6.58  ,  6.59  ,  6.6   ,  6.61  ,  6.62  ,  6.63  ,\n        6.64  ,  6.65  ,  6.66  ,  6.67  ,  6.68  ,  6.69  ,  6.7   ,\n        6.71  ,  6.72  ,  6.73  ,  6.74  ,  6.75  ,  6.76  ,  6.77  ,\n        6.78  ,  6.79  ,  6.8   ,  6.81  ,  6.82  ,  6.83  ,  6.84  ,\n        6.85  ,  6.86  ,  6.87  ,  6.88  ,  6.89  ,  6.9   ,  6.91  ,\n        6.92  ,  6.93  ,  6.94  ,  6.95  ,  6.96  ,  6.97  ,  6.98  ,\n        6.99  ,  7.    ,  7.01  ,  7.02  ,  7.03  ,  7.04  ,  7.05  ,\n        7.06  ,  7.07  ,  7.08  ,  7.09  ,  7.1   ,  7.11  ,  7.12  ,\n        7.13  ,  7.14  ,  7.15  ,  7.16  ,  7.17  ,  7.18  ,  7.19  ,\n        7.2   ,  7.21  ,  7.22  ,  7.23  ,  7.24  ,  7.25  ,  7.26  ,\n        7.27  ,  7.28  ,  7.29  ,  7.3   ,  7.31  ,  7.32  ,  7.33  ,\n        7.34  ,  7.35  ,  7.36  ,  7.37  ,  7.38  ,  7.39  ,  7.4   ,\n        7.41  ,  7.42  ,  7.43  ,  7.44  ,  7.45  ,  7.46  ,  7.47  ,\n        7.48  ,  7.49  ,  7.5   ,  7.51  ,  7.52  ,  7.53  ,  7.54  ,\n        7.55  ,  7.56  ,  7.57  ,  7.58  ,  7.59  ,  7.6   ,  7.61  ,\n        7.62  ,  7.63  ,  7.64  ,  7.65  ,  7.66  ,  7.67  ,  7.68  ,\n        7.69  ,  7.7   ,  7.71  ,  7.72  ,  7.73  ,  7.74  ,  7.75  ,\n        7.76  ,  7.77  ,  7.78  ,  7.79  ,  7.8   ,  7.81  ,  7.82  ,\n        7.83  ,  7.84  ,  7.85  ,  7.86  ,  7.87  ,  7.88  ,  7.89  ,\n        7.9   ,  7.91  ,  7.92  ,  7.93  ,  7.94  ,  7.95  ,  7.96  ,\n        7.97  ,  7.98  ,  7.99  ,  8.    ,  8.0801,  8.1604,  8.2409,\n        8.3216,  8.4025,  8.4836,  8.5649,  8.6464,  8.7281,  8.81  ,\n        8.8921,  8.9744,  9.0569,  9.1396,  9.2225,  9.3056,  9.3889,\n        9.4724,  9.5561,  9.64  ,  9.7241,  9.8084,  9.8929,  9.9776,\n       10.0625, 10.1476, 10.2329, 10.3184, 10.4041, 10.49  , 10.5761,\n       10.6624, 10.7489, 10.8356, 10.9225, 11.0096, 11.0969, 11.1844,\n       11.2721, 11.36  , 11.4481, 11.5364, 11.6249, 11.7136, 11.8025,\n       11.8916, 11.9809, 12.0704, 12.1601, 12.25  , 12.3401, 12.4304,\n       12.5209, 12.6116, 12.7025, 12.7936, 12.8849, 12.9764, 13.0681,\n       13.16  , 13.2521, 13.3444, 13.4369, 13.5296, 13.6225, 13.7156,\n       13.8089, 13.9024, 13.9961, 14.09  , 14.1841, 14.2784, 14.3729,\n       14.4676, 14.5625, 14.6576, 14.7529, 14.8484, 14.9441, 15.04  ,\n       15.1361, 15.2324, 15.3289, 15.4256, 15.5225, 15.6196, 15.7169,\n       15.8144, 15.9121, 16.01  , 16.1081, 16.2064, 16.3049, 16.4036,\n       16.5025, 16.6016, 16.7009, 16.8004, 16.9001, 17.    ])"
     },
     "execution_count": 50,
     "metadata": {},
     "output_type": "execute_result"
    }
   ],
   "source": [
    "# https://numpy.org/doc/stable/reference/generated/numpy.vectorize.html\n",
    "\n",
    "def myfunc(x):\n",
    "    if x < 0:\n",
    "        return x ** 2 + 2 * x + 6\n",
    "    elif x >= 2:\n",
    "        return x ** 2 + 4 * x - 4\n",
    "    else:\n",
    "        return x + 6\n",
    "\n",
    "vfunc = np.vectorize(myfunc)\n",
    "vfunc(np.arange(-3, 3.01, 0.01))"
   ]
  },
  {
   "cell_type": "markdown",
   "metadata": {},
   "source": [
    "**2.8.** Из каждого элемента матрицы вычесть среднее арифметическое от всех элементов в соответствующей строке (после чего среднее значение каждой строки должно равняться нулю).\n",
    "\n",
    "Cм. [np.mean()](http://docs.scipy.org/doc/numpy/reference/generated/numpy.mean.html)."
   ]
  },
  {
   "cell_type": "code",
   "execution_count": 62,
   "metadata": {},
   "outputs": [
    {
     "data": {
      "text/plain": "array([-3.33066907e-17,  1.11022302e-17, -5.55111512e-17, -2.22044605e-17,\n        1.11022302e-17,  6.66133815e-17,  3.33066907e-17,  4.44089210e-17,\n        3.33066907e-17, -2.22044605e-17])"
     },
     "execution_count": 62,
     "metadata": {},
     "output_type": "execute_result"
    }
   ],
   "source": [
    "np.random.seed(7772)\n",
    "X = np.random.random((10, 10))\n",
    "\n",
    "# https://stackoverflow.com/questions/39441517/in-numpy-sum-there-is-parameter-called-keepdims-what-does-it-do\n",
    "np.mean(X - np.mean(X, axis=1, keepdims=True), axis = 1)"
   ]
  },
  {
   "cell_type": "markdown",
   "metadata": {},
   "source": [
    "**2.9.** Есть массив из 1000 чисел, полученных из генератора случайных чисел, имеющий нормальное распределение. Посчитайте выборочное среднее и выборочную дисперсию. "
   ]
  },
  {
   "cell_type": "code",
   "execution_count": 72,
   "metadata": {},
   "outputs": [
    {
     "name": "stdout",
     "output_type": "stream",
     "text": [
      "5.033608062695477\n",
      "4.143962446244119\n"
     ]
    }
   ],
   "source": [
    "np.random.seed(7772)\n",
    "X = np.random.normal(loc=5, scale=2., size=1000)\n",
    "\n",
    "# https://ru.wikipedia.org/wiki/%D0%92%D1%8B%D0%B1%D0%BE%D1%80%D0%BE%D1%87%D0%BD%D0%BE%D0%B5_%D1%81%D1%80%D0%B5%D0%B4%D0%BD%D0%B5%D0%B5\n",
    "# https://ru.wikipedia.org/wiki/%D0%92%D1%8B%D0%B1%D0%BE%D1%80%D0%BE%D1%87%D0%BD%D0%B0%D1%8F_%D0%B4%D0%B8%D1%81%D0%BF%D0%B5%D1%80%D1%81%D0%B8%D1%8F\n",
    "\n",
    "samp_mean = np.sum(X) / len(X) # или просто np.mean(X)\n",
    "samp_var = np.sum((X - samp_mean) ** 2) / len(X) # или просто np.var(X)\n",
    "print(samp_mean)\n",
    "print(samp_var)"
   ]
  },
  {
   "cell_type": "markdown",
   "metadata": {},
   "source": [
    "**2.10.** Создать матрицу (NB. БЕЗ ЦИКЛОВ И ИЗМЕНЕНИЯ ОТДЕЛЬНЫХ ЭЛЕМЕНТОВ):\n",
    "\n",
    "$$\n",
    "\\begin{pmatrix}\n",
    "0 & 1 & 2 & 3 & 4 \\\\\n",
    "1 & 2 & 3 & 4 & 0 \\\\\n",
    "2 & 3 & 4 & 0 & 1 \\\\\n",
    "3 & 4 & 0 & 1 & 2 \\\\\n",
    "4 & 0 & 1 & 2 & 3\n",
    "\\end{pmatrix}\n",
    "$$"
   ]
  },
  {
   "cell_type": "code",
   "execution_count": 11,
   "metadata": {},
   "outputs": [],
   "source": [
    "## your code"
   ]
  },
  {
   "cell_type": "markdown",
   "metadata": {},
   "source": [
    "**2.11.** Есть следующий алгоритм семплинирования, на вход функции подается вектор из целых положительных чисел и число семплов."
   ]
  },
  {
   "cell_type": "code",
   "execution_count": 12,
   "metadata": {},
   "outputs": [
    {
     "data": {
      "text/plain": [
       "[0, 0, 4, 0, 0]"
      ]
     },
     "execution_count": 12,
     "metadata": {},
     "output_type": "execute_result"
    }
   ],
   "source": [
    "def sample(x, c):\n",
    "    assert len(x) > 0\n",
    "    \n",
    "    s = np.sum(x)\n",
    "    res = []\n",
    "    for _ in range(c):\n",
    "        val = s * np.random.random()\n",
    "        cur, idx = 0, 0        \n",
    "        while cur + x[idx] <= val:\n",
    "            cur += x[idx]\n",
    "            idx += 1\n",
    "            \n",
    "        res.append(idx)\n",
    "    return res\n",
    "\n",
    "            \n",
    "sample([50, 3, 1, 7, 20], 5)    "
   ]
  },
  {
   "cell_type": "markdown",
   "metadata": {},
   "source": [
    "Реализуйте данный алгоритм более оптимальным способом, без использования циклов."
   ]
  },
  {
   "cell_type": "code",
   "execution_count": 13,
   "metadata": {},
   "outputs": [],
   "source": [
    "## your code\n",
    "# https://www.w3resource.com/python-exercises/basic/python-basic-1-exercise-92.php"
   ]
  }
 ],
 "metadata": {
  "kernelspec": {
   "display_name": "Python 3.10.4 64-bit",
   "language": "python",
   "name": "python3"
  },
  "language_info": {
   "codemirror_mode": {
    "name": "ipython",
    "version": 3
   },
   "file_extension": ".py",
   "mimetype": "text/x-python",
   "name": "python",
   "nbconvert_exporter": "python",
   "pygments_lexer": "ipython3",
   "version": "3.10.4"
  },
  "vscode": {
   "interpreter": {
    "hash": "916dbcbb3f70747c44a77c7bcd40155683ae19c65e1c03b4aa3499c5328201f1"
   }
  }
 },
 "nbformat": 4,
 "nbformat_minor": 4
}
